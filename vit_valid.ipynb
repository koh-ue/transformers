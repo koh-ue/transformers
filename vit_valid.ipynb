{
  "cells": [
    {
      "attachments": {},
      "cell_type": "markdown",
      "metadata": {
        "id": "3PQMX-13nsDw"
      },
      "source": [
        "# Vision Transformer を用いた画像認識"
      ]
    },
    {
      "attachments": {},
      "cell_type": "markdown",
      "metadata": {
        "id": "GmxXTbUKn5e0"
      },
      "source": [
        "## 1. データの読み込み\n"
      ]
    },
    {
      "cell_type": "code",
      "execution_count": 1,
      "metadata": {
        "id": "bjmhtGvGpd0g"
      },
      "outputs": [],
      "source": [
        "import torch\n",
        "import torchvision\n",
        "import torchvision.transforms as transforms"
      ]
    },
    {
      "cell_type": "code",
      "execution_count": 2,
      "metadata": {
        "colab": {
          "base_uri": "https://localhost:8080/",
          "height": 84,
          "referenced_widgets": [
            "b91109bbfc73427fb3464b748964f7c6",
            "27061e6701c540d6a861fd2cdfb6ae5c",
            "66f93c6572f84f78b8c3999a9e830bfe",
            "c20d44daa5a54354ab42a54eb63399b4",
            "5a4b16f2674841b981cad7af935d9e9c",
            "746cd8b1e5264d7b89b97168111f69fd",
            "5a241abbc26a4d9ab67ef1be8ded8488",
            "0f5d96c79afe4de68f29a63b62eb59e1",
            "fafa3fbc9415446ca95e0abd3199c0a7",
            "f96e593781bd46ad81890655642504a2",
            "3e364baf7eee49ec94ed50e5c91579de"
          ]
        },
        "id": "BRJV3fHMphUr",
        "outputId": "d2ad3ce7-5813-4376-ce3d-7a0d01aaeecc"
      },
      "outputs": [
        {
          "name": "stdout",
          "output_type": "stream",
          "text": [
            "Downloading https://www.cs.toronto.edu/~kriz/cifar-10-python.tar.gz to ./data/cifar-10-python.tar.gz\n"
          ]
        },
        {
          "data": {
            "application/vnd.jupyter.widget-view+json": {
              "model_id": "b91109bbfc73427fb3464b748964f7c6",
              "version_major": 2,
              "version_minor": 0
            },
            "text/plain": [
              "  0%|          | 0/170498071 [00:00<?, ?it/s]"
            ]
          },
          "metadata": {},
          "output_type": "display_data"
        },
        {
          "name": "stdout",
          "output_type": "stream",
          "text": [
            "Extracting ./data/cifar-10-python.tar.gz to ./data\n"
          ]
        }
      ],
      "source": [
        "transform = transforms.Compose(\n",
        "    [transforms.ToTensor(),\n",
        "     transforms.Normalize((0.5, 0.5, 0.5), (0.5, 0.5, 0.5))])\n",
        "\n",
        "train_set = torchvision.datasets.CIFAR10(root='./data', train=True, download=True, transform=transform)"
      ]
    },
    {
      "cell_type": "code",
      "execution_count": 3,
      "metadata": {
        "colab": {
          "base_uri": "https://localhost:8080/"
        },
        "id": "7Mms3qh9nO5k",
        "outputId": "14496968-748b-4078-8444-272ea0892085"
      },
      "outputs": [
        {
          "name": "stdout",
          "output_type": "stream",
          "text": [
            "Files already downloaded and verified\n"
          ]
        }
      ],
      "source": [
        "batch_size = 100\n",
        "\n",
        "train_loader = torch.utils.data.DataLoader(train_set, batch_size=batch_size, shuffle=True, num_workers=2)\n",
        "\n",
        "test_set = torchvision.datasets.CIFAR10(root='./data', train=False, download=True, transform=transform)\n",
        "\n",
        "test_loader = torch.utils.data.DataLoader(test_set, batch_size=batch_size, shuffle=False, num_workers=2)\n",
        "\n",
        "classes = ('plane', 'car', 'bird', 'cat', 'deer', 'dog', 'frog', 'horse', 'ship', 'truck')"
      ]
    },
    {
      "attachments": {},
      "cell_type": "markdown",
      "metadata": {
        "id": "CW2NdeL-Kk2u"
      },
      "source": [
        "## 2. ViT モデル"
      ]
    },
    {
      "cell_type": "code",
      "execution_count": 4,
      "metadata": {
        "colab": {
          "base_uri": "https://localhost:8080/"
        },
        "id": "i58xd7OvK9ai",
        "outputId": "ef479a4b-fd56-4b58-a520-b54f1d3f3612"
      },
      "outputs": [
        {
          "name": "stdout",
          "output_type": "stream",
          "text": [
            "Looking in indexes: https://pypi.org/simple, https://us-python.pkg.dev/colab-wheels/public/simple/\n",
            "Collecting einops\n",
            "  Downloading einops-0.4.1-py3-none-any.whl (28 kB)\n",
            "Installing collected packages: einops\n",
            "Successfully installed einops-0.4.1\n"
          ]
        }
      ],
      "source": [
        "!pip install einops"
      ]
    },
    {
      "attachments": {},
      "cell_type": "markdown",
      "metadata": {
        "id": "6t6PJcKuYAxP"
      },
      "source": [
        "### class ViT"
      ]
    },
    {
      "cell_type": "code",
      "execution_count": 5,
      "metadata": {
        "id": "T2mJWGcBYC3f"
      },
      "outputs": [],
      "source": [
        "import torch\n",
        "import torch.nn as nn\n",
        "\n",
        "from einops import repeat\n",
        "from einops.layers.torch import Rearrange\n",
        "\n",
        "\n",
        "class Patching(nn.Module):\n",
        "    def __init__(self, patch_size):\n",
        "        \"\"\" [input]\n",
        "            - patch_size (int) : パッチの縦の長さ（=横の長さ）\n",
        "        \"\"\"\n",
        "        super().__init__()\n",
        "        self.net = Rearrange(\"b c (h ph) (w pw) -> b (h w) (ph pw c)\", ph = patch_size, pw = patch_size)\n",
        "    \n",
        "    def forward(self, x):\n",
        "        \"\"\" [input]\n",
        "            - x (torch.Tensor) : 画像データ\n",
        "                - x.shape = torch.Size([batch_size, channels, image_height, image_width])\n",
        "        \"\"\"\n",
        "        x = self.net(x)\n",
        "        return x\n",
        "\n",
        "\n",
        "class LinearProjection(nn.Module):\n",
        "    def __init__(self, patch_dim, dim):\n",
        "        \"\"\" [input]\n",
        "            - patch_dim (int) : 一枚あたりのパッチのベクトルの長さ（= channels * (patch_size ** 2)）\n",
        "            - dim (int) : パッチのベクトルが変換されたベクトルの長さ \n",
        "        \"\"\"\n",
        "        super().__init__()\n",
        "        self.net = nn.Linear(patch_dim, dim)\n",
        "\n",
        "    def forward(self, x):\n",
        "        \"\"\" [input]\n",
        "            - x (torch.Tensor) \n",
        "                - x.shape = torch.Size([batch_size, n_patches, patch_dim])\n",
        "        \"\"\"\n",
        "        x = self.net(x)\n",
        "        return x\n",
        "\n",
        "\n",
        "class Embedding(nn.Module):\n",
        "    def __init__(self, dim, n_patches):\n",
        "        \"\"\" [input]\n",
        "            - dim (int) : パッチのベクトルが変換されたベクトルの長さ\n",
        "            - n_patches (int) : パッチの枚数\n",
        "        \"\"\"\n",
        "        super().__init__()\n",
        "        # [class] token\n",
        "        self.cls_token = nn.Parameter(torch.randn(1, 1, dim))\n",
        "\n",
        "        # position embedding\n",
        "        self.pos_embedding = nn.Parameter(torch.randn(1, n_patches + 1, dim))\n",
        "    \n",
        "    def forward(self, x):\n",
        "        \"\"\"[input]\n",
        "            - x (torch.Tensor)\n",
        "                - x.shape = torch.Size([batch_size, n_patches, dim])\n",
        "        \"\"\"\n",
        "        # バッチサイズを抽出\n",
        "        batch_size, _, __ = x.shape\n",
        "\n",
        "        # [class] トークン付加\n",
        "        # x.shape : [batch_size, n_patches, patch_dim] -> [batch_size, n_patches + 1, patch_dim]\n",
        "        cls_tokens = repeat(self.cls_token, \"1 1 d -> b 1 d\", b = batch_size)\n",
        "        x = torch.concat([cls_tokens, x], dim = 1)\n",
        "\n",
        "        # 位置エンコーディング\n",
        "        x += self.pos_embedding\n",
        "\n",
        "        return x\n",
        "\n",
        "\n",
        "class MLP(nn.Module):\n",
        "    def __init__(self, dim, hidden_dim):\n",
        "        \"\"\" [input]\n",
        "            - dim (int) : パッチのベクトルが変換されたベクトルの長さ\n",
        "            - hidden_dim (int) : 隠れ層のノード数\n",
        "        \"\"\"\n",
        "        super().__init__()\n",
        "        self.net = nn.Sequential(\n",
        "            nn.Linear(dim, hidden_dim),\n",
        "            nn.GELU(),\n",
        "            nn.Linear(hidden_dim, dim)\n",
        "        )\n",
        "\n",
        "    def forward(self, x):\n",
        "        \"\"\"[input]\n",
        "            - x (torch.Tensor)\n",
        "                - x.shape = torch.Size([batch_size, n_patches + 1, dim])\n",
        "        \"\"\"\n",
        "        x = self.net(x)\n",
        "        return x\n",
        "\n",
        "\n",
        "class MultiHeadAttention(nn.Module):\n",
        "    def __init__(self, dim, n_heads):\n",
        "        \"\"\" [input]\n",
        "            - dim (int) : パッチのベクトルが変換されたベクトルの長さ\n",
        "            - n_heads (int) : heads の数\n",
        "        \"\"\"\n",
        "        super().__init__()\n",
        "        self.n_heads = n_heads\n",
        "        self.dim_heads = dim // n_heads\n",
        "\n",
        "        self.W_q = nn.Linear(dim, dim)\n",
        "        self.W_k = nn.Linear(dim, dim)\n",
        "        self.W_v = nn.Linear(dim, dim)\n",
        "\n",
        "        self.split_into_heads = Rearrange(\"b n (h d) -> b h n d\", h = self.n_heads)\n",
        "\n",
        "        self.softmax = nn.Softmax(dim = -1)\n",
        "\n",
        "        self.concat = Rearrange(\"b h n d -> b n (h d)\", h = self.n_heads)\n",
        "\n",
        "    def forward(self, x):\n",
        "        \"\"\"[input]\n",
        "            - x (torch.Tensor)\n",
        "                - x.shape = torch.Size([batch_size, n_patches + 1, dim])\n",
        "        \"\"\"\n",
        "        q = self.W_q(x)\n",
        "        k = self.W_k(x)\n",
        "        v = self.W_v(x)\n",
        "\n",
        "        q = self.split_into_heads(q)\n",
        "        k = self.split_into_heads(k)\n",
        "        v = self.split_into_heads(v)\n",
        "\n",
        "        # Logit[i] = Q[i] * tK[i] / sqrt(D) (i = 1, ... , n_heads)\n",
        "        # AttentionWeight[i] = Softmax(Logit[i]) (i = 1, ... , n_heads)\n",
        "        logit = torch.matmul(q, k.transpose(-1, -2)) * (self.dim_heads ** -0.5)\n",
        "        attention_weight = self.softmax(logit)\n",
        "\n",
        "        # Head[i] = AttentionWeight[i] * V[i] (i = 1, ... , n_heads)\n",
        "        # Output = concat[Head[1], ... , Head[n_heads]]\n",
        "        output = torch.matmul(attention_weight, v)\n",
        "        output = self.concat(output)\n",
        "        return output\n",
        "\n",
        "\n",
        "class TransformerEncoder(nn.Module):\n",
        "    def __init__(self, dim, n_heads, mlp_dim, depth):\n",
        "        \"\"\" [input]\n",
        "            - dim (int) : 各パッチのベクトルが変換されたベクトルの長さ（参考[1] (1)式 D）\n",
        "            - depth (int) : Transformer Encoder の層の深さ（参考[1] (2)式 L）\n",
        "            - n_heads (int) : Multi-Head Attention の head の数\n",
        "            - mlp_dim (int) : MLP の隠れ層のノード数\n",
        "        \"\"\"\n",
        "        super().__init__()\n",
        "\n",
        "        # Layers\n",
        "        self.norm = nn.LayerNorm(dim)\n",
        "        self.multi_head_attention = MultiHeadAttention(dim = dim, n_heads = n_heads)\n",
        "        self.mlp = MLP(dim = dim, hidden_dim = mlp_dim)\n",
        "        self.depth = depth\n",
        "\n",
        "    def forward(self, x):\n",
        "        \"\"\"[input]\n",
        "            - x (torch.Tensor)\n",
        "                - x.shape = torch.Size([batch_size, n_patches + 1, dim])\n",
        "        \"\"\"\n",
        "        for _ in range(self.depth):\n",
        "            x = self.multi_head_attention(self.norm(x)) + x\n",
        "            x = self.mlp(self.norm(x)) + x\n",
        "\n",
        "        return x\n",
        "\n",
        "\n",
        "class MLPHead(nn.Module):\n",
        "    def __init__(self, dim, out_dim):\n",
        "        super().__init__()\n",
        "        self.net = nn.Sequential(\n",
        "            nn.LayerNorm(dim),\n",
        "            nn.Linear(dim, out_dim)\n",
        "        )\n",
        "    \n",
        "    def forward(self, x):\n",
        "        x = self.net(x)\n",
        "        return x\n",
        "\n",
        "\n",
        "class ViT(nn.Module):\n",
        "    def __init__(self, image_size, patch_size, n_classes, dim, depth, n_heads, channels = 3, mlp_dim = 256):\n",
        "        \"\"\" [input]\n",
        "            - image_size (int) : 画像の縦の長さ（= 横の長さ）\n",
        "            - patch_size (int) : パッチの縦の長さ（= 横の長さ）\n",
        "            - n_classes (int) : 分類するクラスの数\n",
        "            - dim (int) : 各パッチのベクトルが変換されたベクトルの長さ（参考[1] (1)式 D）\n",
        "            - depth (int) : Transformer Encoder の層の深さ（参考[1] (2)式 L）\n",
        "            - n_heads (int) : Multi-Head Attention の head の数\n",
        "            - chahnnels (int) : 入力のチャネル数（RGBの画像なら3）\n",
        "            - mlp_dim (int) : MLP の隠れ層のノード数\n",
        "        \"\"\"\n",
        "\n",
        "        super().__init__()\n",
        "        \n",
        "        # Params\n",
        "        n_patches = (image_size // patch_size) ** 2\n",
        "        patch_dim = channels * patch_size * patch_size\n",
        "        self.depth = depth\n",
        "\n",
        "        # Layers\n",
        "        self.patching = Patching(patch_size = patch_size)\n",
        "        self.linear_projection_of_flattened_patches = LinearProjection(patch_dim = patch_dim, dim = dim)\n",
        "        self.embedding = Embedding(dim = dim, n_patches = n_patches)\n",
        "        self.transformer_encoder = TransformerEncoder(dim = dim, n_heads = n_heads, mlp_dim = mlp_dim, depth = depth)\n",
        "        self.mlp_head = MLPHead(dim = dim, out_dim = n_classes)\n",
        "\n",
        "\n",
        "    def forward(self, img):\n",
        "        \"\"\" [input]\n",
        "            - img (torch.Tensor) : 画像データ\n",
        "                - img.shape = torch.Size([batch_size, channels, image_height, image_width])\n",
        "        \"\"\"\n",
        "\n",
        "        x = img\n",
        "\n",
        "        # 1. パッチに分割\n",
        "        # x.shape : [batch_size, channels, image_height, image_width] -> [batch_size, n_patches, channels * (patch_size ** 2)]\n",
        "        x = self.patching(x)\n",
        "\n",
        "        # 2. 各パッチをベクトルに変換\n",
        "        # x.shape : [batch_size, n_patches, channels * (patch_size ** 2)] -> [batch_size, n_patches, dim]\n",
        "        x = self.linear_projection_of_flattened_patches(x)\n",
        "\n",
        "        # 3. [class] トークン付加 + 位置エンコーディング \n",
        "        # x.shape : [batch_size, n_patches, dim] -> [batch_size, n_patches + 1, dim]\n",
        "        x = self.embedding(x)\n",
        "\n",
        "        # 4. Transformer Encoder\n",
        "        # x.shape : No Change\n",
        "        x = self.transformer_encoder(x)\n",
        "\n",
        "        # 5. 出力の0番目のベクトルを MLP Head で処理\n",
        "        # x.shape : [batch_size, n_patches + 1, dim] -> [batch_size, dim] -> [batch_size, n_classes]\n",
        "        x = x[:, 0]\n",
        "        x = self.mlp_head(x)\n",
        "\n",
        "        return x"
      ]
    },
    {
      "attachments": {},
      "cell_type": "markdown",
      "metadata": {
        "id": "9V_J5ZdLbYXI"
      },
      "source": [
        "### モデル初期化"
      ]
    },
    {
      "cell_type": "code",
      "execution_count": 6,
      "metadata": {
        "colab": {
          "base_uri": "https://localhost:8080/"
        },
        "id": "PwBMgbakMk0u",
        "outputId": "6ca968d7-ff68-4e65-d979-b3d07544c3cf"
      },
      "outputs": [
        {
          "name": "stdout",
          "output_type": "stream",
          "text": [
            "cuda:0\n"
          ]
        }
      ],
      "source": [
        "device = torch.device(\"cuda:0\" if torch.cuda.is_available() else \"cpu\")\n",
        "print(device)"
      ]
    },
    {
      "cell_type": "code",
      "execution_count": 7,
      "metadata": {
        "id": "qaYZ-QmbLF9x"
      },
      "outputs": [],
      "source": [
        "net = ViT(\n",
        "    image_size=32,\n",
        "    patch_size=4,\n",
        "    n_classes=10,\n",
        "    dim=256,\n",
        "    depth=3,\n",
        "    n_heads=4,\n",
        "    mlp_dim = 256\n",
        ").to(device)"
      ]
    },
    {
      "attachments": {},
      "cell_type": "markdown",
      "metadata": {
        "id": "iqtoniAYo3oh"
      },
      "source": [
        "## 3. 学習"
      ]
    },
    {
      "cell_type": "code",
      "execution_count": 8,
      "metadata": {
        "id": "77GpJ7AerCeZ"
      },
      "outputs": [],
      "source": [
        "import torch.optim as optim\n",
        "import torch.nn as nn"
      ]
    },
    {
      "cell_type": "code",
      "execution_count": 9,
      "metadata": {
        "id": "midyClfXo8J1"
      },
      "outputs": [],
      "source": [
        "criterion = nn.CrossEntropyLoss()\n",
        "optimizer = optim.SGD(net.parameters(), lr=0.01, momentum=0.9)"
      ]
    },
    {
      "cell_type": "code",
      "execution_count": 10,
      "metadata": {
        "colab": {
          "base_uri": "https://localhost:8080/"
        },
        "id": "zYMaAWCYo07x",
        "outputId": "02d1a261-f083-402c-b182-8937898606f9"
      },
      "outputs": [
        {
          "name": "stdout",
          "output_type": "stream",
          "text": [
            "Epoch 1 : train acc. 0.32 train loss 1.88\n",
            "Epoch 1 : test acc. 0.40 test loss 1.67\n",
            "Epoch 2 : train acc. 0.43 train loss 1.60\n",
            "Epoch 2 : test acc. 0.45 test loss 1.53\n",
            "Epoch 3 : train acc. 0.48 train loss 1.46\n",
            "Epoch 3 : test acc. 0.49 test loss 1.45\n",
            "Epoch 4 : train acc. 0.51 train loss 1.36\n",
            "Epoch 4 : test acc. 0.52 test loss 1.34\n",
            "Epoch 5 : train acc. 0.54 train loss 1.28\n",
            "Epoch 5 : test acc. 0.54 test loss 1.28\n",
            "Epoch 6 : train acc. 0.57 train loss 1.21\n",
            "Epoch 6 : test acc. 0.56 test loss 1.23\n",
            "Epoch 7 : train acc. 0.59 train loss 1.14\n",
            "Epoch 7 : test acc. 0.57 test loss 1.21\n",
            "Epoch 8 : train acc. 0.61 train loss 1.08\n",
            "Epoch 8 : test acc. 0.57 test loss 1.19\n",
            "Epoch 9 : train acc. 0.63 train loss 1.03\n",
            "Epoch 9 : test acc. 0.58 test loss 1.21\n",
            "Epoch 10 : train acc. 0.65 train loss 0.98\n",
            "Epoch 10 : test acc. 0.58 test loss 1.19\n"
          ]
        }
      ],
      "source": [
        "epochs = 10\n",
        "for epoch in range(0, epochs):\n",
        "    epoch_train_loss = 0\n",
        "    epoch_train_acc = 0\n",
        "    epoch_test_loss = 0\n",
        "    epoch_test_acc = 0\n",
        "\n",
        "    net.train()\n",
        "    for data in train_loader:\n",
        "        inputs, labels = data[0].to(device), data[1].to(device)\n",
        "\n",
        "        optimizer.zero_grad()\n",
        "\n",
        "        outputs = net(inputs)\n",
        "        loss = criterion(outputs, labels)\n",
        "        loss.backward()\n",
        "        optimizer.step()\n",
        "\n",
        "        epoch_train_loss += loss.item()/len(train_loader)\n",
        "        acc = (outputs.argmax(dim=1) == labels).float().mean()\n",
        "        epoch_train_acc += acc/len(train_loader)\n",
        "\n",
        "        del inputs\n",
        "        del outputs\n",
        "        del loss\n",
        "\n",
        "    net.eval()\n",
        "    with torch.no_grad():\n",
        "        for data in test_loader:\n",
        "            inputs, labels = data[0].to(device), data[1].to(device)\n",
        "            outputs = net(inputs)\n",
        "            loss = criterion(outputs, labels)\n",
        "            epoch_test_loss += loss.item()/len(test_loader)\n",
        "            test_acc = (outputs.argmax(dim=1) == labels).float().mean()\n",
        "            epoch_test_acc += test_acc/len(test_loader)\n",
        "\n",
        "    print(f'Epoch {epoch+1} : train acc. {epoch_train_acc:.2f} train loss {epoch_train_loss:.2f}')\n",
        "    print(f'Epoch {epoch+1} : test acc. {epoch_test_acc:.2f} test loss {epoch_test_loss:.2f}')"
      ]
    }
  ],
  "metadata": {
    "accelerator": "GPU",
    "colab": {
      "name": "vit_valid.ipynb",
      "provenance": []
    },
    "gpuClass": "standard",
    "kernelspec": {
      "display_name": "Python 3",
      "name": "python3"
    },
    "language_info": {
      "codemirror_mode": {
        "name": "ipython",
        "version": 3
      },
      "file_extension": ".py",
      "mimetype": "text/x-python",
      "name": "python",
      "nbconvert_exporter": "python",
      "pygments_lexer": "ipython3",
      "version": "3.11.3"
    },
    "widgets": {
      "application/vnd.jupyter.widget-state+json": {
        "0f5d96c79afe4de68f29a63b62eb59e1": {
          "model_module": "@jupyter-widgets/base",
          "model_module_version": "1.2.0",
          "model_name": "LayoutModel",
          "state": {
            "_model_module": "@jupyter-widgets/base",
            "_model_module_version": "1.2.0",
            "_model_name": "LayoutModel",
            "_view_count": null,
            "_view_module": "@jupyter-widgets/base",
            "_view_module_version": "1.2.0",
            "_view_name": "LayoutView",
            "align_content": null,
            "align_items": null,
            "align_self": null,
            "border": null,
            "bottom": null,
            "display": null,
            "flex": null,
            "flex_flow": null,
            "grid_area": null,
            "grid_auto_columns": null,
            "grid_auto_flow": null,
            "grid_auto_rows": null,
            "grid_column": null,
            "grid_gap": null,
            "grid_row": null,
            "grid_template_areas": null,
            "grid_template_columns": null,
            "grid_template_rows": null,
            "height": null,
            "justify_content": null,
            "justify_items": null,
            "left": null,
            "margin": null,
            "max_height": null,
            "max_width": null,
            "min_height": null,
            "min_width": null,
            "object_fit": null,
            "object_position": null,
            "order": null,
            "overflow": null,
            "overflow_x": null,
            "overflow_y": null,
            "padding": null,
            "right": null,
            "top": null,
            "visibility": null,
            "width": null
          }
        },
        "27061e6701c540d6a861fd2cdfb6ae5c": {
          "model_module": "@jupyter-widgets/controls",
          "model_module_version": "1.5.0",
          "model_name": "HTMLModel",
          "state": {
            "_dom_classes": [],
            "_model_module": "@jupyter-widgets/controls",
            "_model_module_version": "1.5.0",
            "_model_name": "HTMLModel",
            "_view_count": null,
            "_view_module": "@jupyter-widgets/controls",
            "_view_module_version": "1.5.0",
            "_view_name": "HTMLView",
            "description": "",
            "description_tooltip": null,
            "layout": "IPY_MODEL_746cd8b1e5264d7b89b97168111f69fd",
            "placeholder": "​",
            "style": "IPY_MODEL_5a241abbc26a4d9ab67ef1be8ded8488",
            "value": "100%"
          }
        },
        "3e364baf7eee49ec94ed50e5c91579de": {
          "model_module": "@jupyter-widgets/controls",
          "model_module_version": "1.5.0",
          "model_name": "DescriptionStyleModel",
          "state": {
            "_model_module": "@jupyter-widgets/controls",
            "_model_module_version": "1.5.0",
            "_model_name": "DescriptionStyleModel",
            "_view_count": null,
            "_view_module": "@jupyter-widgets/base",
            "_view_module_version": "1.2.0",
            "_view_name": "StyleView",
            "description_width": ""
          }
        },
        "5a241abbc26a4d9ab67ef1be8ded8488": {
          "model_module": "@jupyter-widgets/controls",
          "model_module_version": "1.5.0",
          "model_name": "DescriptionStyleModel",
          "state": {
            "_model_module": "@jupyter-widgets/controls",
            "_model_module_version": "1.5.0",
            "_model_name": "DescriptionStyleModel",
            "_view_count": null,
            "_view_module": "@jupyter-widgets/base",
            "_view_module_version": "1.2.0",
            "_view_name": "StyleView",
            "description_width": ""
          }
        },
        "5a4b16f2674841b981cad7af935d9e9c": {
          "model_module": "@jupyter-widgets/base",
          "model_module_version": "1.2.0",
          "model_name": "LayoutModel",
          "state": {
            "_model_module": "@jupyter-widgets/base",
            "_model_module_version": "1.2.0",
            "_model_name": "LayoutModel",
            "_view_count": null,
            "_view_module": "@jupyter-widgets/base",
            "_view_module_version": "1.2.0",
            "_view_name": "LayoutView",
            "align_content": null,
            "align_items": null,
            "align_self": null,
            "border": null,
            "bottom": null,
            "display": null,
            "flex": null,
            "flex_flow": null,
            "grid_area": null,
            "grid_auto_columns": null,
            "grid_auto_flow": null,
            "grid_auto_rows": null,
            "grid_column": null,
            "grid_gap": null,
            "grid_row": null,
            "grid_template_areas": null,
            "grid_template_columns": null,
            "grid_template_rows": null,
            "height": null,
            "justify_content": null,
            "justify_items": null,
            "left": null,
            "margin": null,
            "max_height": null,
            "max_width": null,
            "min_height": null,
            "min_width": null,
            "object_fit": null,
            "object_position": null,
            "order": null,
            "overflow": null,
            "overflow_x": null,
            "overflow_y": null,
            "padding": null,
            "right": null,
            "top": null,
            "visibility": null,
            "width": null
          }
        },
        "66f93c6572f84f78b8c3999a9e830bfe": {
          "model_module": "@jupyter-widgets/controls",
          "model_module_version": "1.5.0",
          "model_name": "FloatProgressModel",
          "state": {
            "_dom_classes": [],
            "_model_module": "@jupyter-widgets/controls",
            "_model_module_version": "1.5.0",
            "_model_name": "FloatProgressModel",
            "_view_count": null,
            "_view_module": "@jupyter-widgets/controls",
            "_view_module_version": "1.5.0",
            "_view_name": "ProgressView",
            "bar_style": "success",
            "description": "",
            "description_tooltip": null,
            "layout": "IPY_MODEL_0f5d96c79afe4de68f29a63b62eb59e1",
            "max": 170498071,
            "min": 0,
            "orientation": "horizontal",
            "style": "IPY_MODEL_fafa3fbc9415446ca95e0abd3199c0a7",
            "value": 170498071
          }
        },
        "746cd8b1e5264d7b89b97168111f69fd": {
          "model_module": "@jupyter-widgets/base",
          "model_module_version": "1.2.0",
          "model_name": "LayoutModel",
          "state": {
            "_model_module": "@jupyter-widgets/base",
            "_model_module_version": "1.2.0",
            "_model_name": "LayoutModel",
            "_view_count": null,
            "_view_module": "@jupyter-widgets/base",
            "_view_module_version": "1.2.0",
            "_view_name": "LayoutView",
            "align_content": null,
            "align_items": null,
            "align_self": null,
            "border": null,
            "bottom": null,
            "display": null,
            "flex": null,
            "flex_flow": null,
            "grid_area": null,
            "grid_auto_columns": null,
            "grid_auto_flow": null,
            "grid_auto_rows": null,
            "grid_column": null,
            "grid_gap": null,
            "grid_row": null,
            "grid_template_areas": null,
            "grid_template_columns": null,
            "grid_template_rows": null,
            "height": null,
            "justify_content": null,
            "justify_items": null,
            "left": null,
            "margin": null,
            "max_height": null,
            "max_width": null,
            "min_height": null,
            "min_width": null,
            "object_fit": null,
            "object_position": null,
            "order": null,
            "overflow": null,
            "overflow_x": null,
            "overflow_y": null,
            "padding": null,
            "right": null,
            "top": null,
            "visibility": null,
            "width": null
          }
        },
        "b91109bbfc73427fb3464b748964f7c6": {
          "model_module": "@jupyter-widgets/controls",
          "model_module_version": "1.5.0",
          "model_name": "HBoxModel",
          "state": {
            "_dom_classes": [],
            "_model_module": "@jupyter-widgets/controls",
            "_model_module_version": "1.5.0",
            "_model_name": "HBoxModel",
            "_view_count": null,
            "_view_module": "@jupyter-widgets/controls",
            "_view_module_version": "1.5.0",
            "_view_name": "HBoxView",
            "box_style": "",
            "children": [
              "IPY_MODEL_27061e6701c540d6a861fd2cdfb6ae5c",
              "IPY_MODEL_66f93c6572f84f78b8c3999a9e830bfe",
              "IPY_MODEL_c20d44daa5a54354ab42a54eb63399b4"
            ],
            "layout": "IPY_MODEL_5a4b16f2674841b981cad7af935d9e9c"
          }
        },
        "c20d44daa5a54354ab42a54eb63399b4": {
          "model_module": "@jupyter-widgets/controls",
          "model_module_version": "1.5.0",
          "model_name": "HTMLModel",
          "state": {
            "_dom_classes": [],
            "_model_module": "@jupyter-widgets/controls",
            "_model_module_version": "1.5.0",
            "_model_name": "HTMLModel",
            "_view_count": null,
            "_view_module": "@jupyter-widgets/controls",
            "_view_module_version": "1.5.0",
            "_view_name": "HTMLView",
            "description": "",
            "description_tooltip": null,
            "layout": "IPY_MODEL_f96e593781bd46ad81890655642504a2",
            "placeholder": "​",
            "style": "IPY_MODEL_3e364baf7eee49ec94ed50e5c91579de",
            "value": " 170498071/170498071 [00:01&lt;00:00, 114446503.58it/s]"
          }
        },
        "f96e593781bd46ad81890655642504a2": {
          "model_module": "@jupyter-widgets/base",
          "model_module_version": "1.2.0",
          "model_name": "LayoutModel",
          "state": {
            "_model_module": "@jupyter-widgets/base",
            "_model_module_version": "1.2.0",
            "_model_name": "LayoutModel",
            "_view_count": null,
            "_view_module": "@jupyter-widgets/base",
            "_view_module_version": "1.2.0",
            "_view_name": "LayoutView",
            "align_content": null,
            "align_items": null,
            "align_self": null,
            "border": null,
            "bottom": null,
            "display": null,
            "flex": null,
            "flex_flow": null,
            "grid_area": null,
            "grid_auto_columns": null,
            "grid_auto_flow": null,
            "grid_auto_rows": null,
            "grid_column": null,
            "grid_gap": null,
            "grid_row": null,
            "grid_template_areas": null,
            "grid_template_columns": null,
            "grid_template_rows": null,
            "height": null,
            "justify_content": null,
            "justify_items": null,
            "left": null,
            "margin": null,
            "max_height": null,
            "max_width": null,
            "min_height": null,
            "min_width": null,
            "object_fit": null,
            "object_position": null,
            "order": null,
            "overflow": null,
            "overflow_x": null,
            "overflow_y": null,
            "padding": null,
            "right": null,
            "top": null,
            "visibility": null,
            "width": null
          }
        },
        "fafa3fbc9415446ca95e0abd3199c0a7": {
          "model_module": "@jupyter-widgets/controls",
          "model_module_version": "1.5.0",
          "model_name": "ProgressStyleModel",
          "state": {
            "_model_module": "@jupyter-widgets/controls",
            "_model_module_version": "1.5.0",
            "_model_name": "ProgressStyleModel",
            "_view_count": null,
            "_view_module": "@jupyter-widgets/base",
            "_view_module_version": "1.2.0",
            "_view_name": "StyleView",
            "bar_color": null,
            "description_width": ""
          }
        }
      }
    }
  },
  "nbformat": 4,
  "nbformat_minor": 0
}
